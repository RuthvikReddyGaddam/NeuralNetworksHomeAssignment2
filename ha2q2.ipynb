{
 "cells": [
  {
   "cell_type": "markdown",
   "metadata": {},
   "source": [
    "Question 2: Convolution Operations with Different Parameters (20 points)\n",
    "Task: Implement Convolution with Different Stride and Padding (10 points)\n",
    "Write a Python script using NumPy and TensorFlow/Keras to perform convolution on a 5×5 input matrix using a 3×3 kernel with varying parameters.\n",
    "\n",
    "1. Define the following 5×5 input matrix:\n",
    "\n",
    "2. Define the following 3×3 kernel:\n",
    "\n",
    "3. Perform convolution operations with:\n",
    "   - Stride = 1, Padding = ‘VALID’\n",
    "   - Stride = 1, Padding = ‘SAME’\n",
    "   - Stride = 2, Padding = ‘VALID’\n",
    "   - Stride = 2, Padding = ‘SAME’\n",
    "4. Print the output feature maps for each case.\n",
    "   Expected Output\n",
    "   Print the output feature maps for - Stride = 1, Padding = ‘VALID’ - Stride = 1, Padding = ‘SAME’ - Stride = 2, Padding = ‘VALID’ - Stride = 2, Padding = ‘SAME’\n"
   ]
  },
  {
   "cell_type": "code",
   "execution_count": null,
   "metadata": {},
   "outputs": [],
   "source": [
    "# importing all packages needed\n",
    "import tensorflow as tf\n",
    "import numpy as np"
   ]
  },
  {
   "cell_type": "code",
   "execution_count": null,
   "metadata": {},
   "outputs": [],
   "source": [
    "# custom funtion to handle convolution with the mentioned stride length nd padding\n",
    "def convolve(input_matrix, kernel, stride, padding):\n",
    "    input_size = input_matrix.shape[0]  # Assuming square input matrix (5x5)\n",
    "    kernel_size = kernel.shape[0]  # Assuming square kernel (3x3)\n",
    "    \n",
    "    # Apply padding if required (when padding = 'SAME')\n",
    "    if padding == 'SAME':\n",
    "        pad_size = (kernel_size - 1) // 2  # Only works for odd-sized kernels\n",
    "        input_padded = np.pad(input_matrix, pad_size, mode='constant', constant_values=0)\n",
    "    else:  # padding == 'VALID'\n",
    "        input_padded = input_matrix\n",
    "\n",
    "    # getting padding length\n",
    "    padded_size = input_padded.shape[0]\n",
    "\n",
    "    # Compute output size\n",
    "    output_size = ((padded_size - kernel_size) // stride) + 1\n",
    "\n",
    "    # creating op matrix with the required dimensions\n",
    "    output_matrix = np.zeros((output_size, output_size), dtype=np.float32)\n",
    "\n",
    "    # Perform convolution using nested loops\n",
    "    for i in range(0, output_size):\n",
    "        for j in range(0, output_size):\n",
    "            # Extract the region from input\n",
    "            region = input_padded[i * stride : i * stride + kernel_size, \n",
    "                                  j * stride : j * stride + kernel_size]\n",
    "            # Compute element-wise multiplication and sum\n",
    "            output_matrix[i, j] = np.sum(region * kernel)\n",
    "\n",
    "    return output_matrix\n",
    "\n",
    "            "
   ]
  },
  {
   "cell_type": "code",
   "execution_count": null,
   "metadata": {},
   "outputs": [],
   "source": [
    "# declaring input matrix, kernel, padding, stride length\n",
    "input_matrix = np.array([\n",
    "                        [1, 2, 3, 4, 5],\n",
    "                        [6, 7, 8, 9, 10],\n",
    "                        [11, 12, 13, 14, 15],\n",
    "                        [16, 17, 18, 19, 20],\n",
    "                        [21, 22, 23, 24, 25]\n",
    "                    ], dtype = np.float32)\n",
    "kernel = np.array([[0, 1, 0],\n",
    "                   [1 ,-4, 1],\n",
    "                   [0, 1, 0]], dtype = np.float32)\n",
    "paddings = [\"SAME\", \"VALID\"]\n",
    "strides = [1,2]\n",
    "for padding in paddings:\n",
    "    for stride in strides:\n",
    "\n",
    "        conv_mat = convolve(input_matrix, kernel, stride, padding)\n",
    "        print(f'Convolved matrix for stride = {stride} and padding = {padding}')\n",
    "        print(conv_mat)"
   ]
  },
  {
   "cell_type": "code",
   "execution_count": null,
   "metadata": {},
   "outputs": [],
   "source": []
  }
 ],
 "metadata": {
  "kernelspec": {
   "display_name": "Python 3",
   "language": "python",
   "name": "python3"
  },
  "language_info": {
   "codemirror_mode": {
    "name": "ipython",
    "version": 3
   },
   "file_extension": ".py",
   "mimetype": "text/x-python",
   "name": "python",
   "nbconvert_exporter": "python",
   "pygments_lexer": "ipython3",
   "version": "3.12.8"
  }
 },
 "nbformat": 4,
 "nbformat_minor": 2
}
